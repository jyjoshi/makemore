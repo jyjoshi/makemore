{
 "cells": [
  {
   "cell_type": "code",
   "execution_count": 1,
   "metadata": {},
   "outputs": [],
   "source": [
    "import torch"
   ]
  },
  {
   "cell_type": "code",
   "execution_count": 11,
   "metadata": {},
   "outputs": [
    {
     "name": "stdout",
     "output_type": "stream",
     "text": [
      "y=tensor([2., 3., 4., 5., 6.])\n",
      "x=tensor([1., 2., 3., 4., 5.])\n",
      "x*y=tensor([ 2.,  6., 12., 20., 30.])\n"
     ]
    }
   ],
   "source": [
    "x = [1, 2, 3, 4, 5]\n",
    "y = [2, 3, 4, 5, 6]\n",
    "x = torch.tensor(x).float()\n",
    "y = torch.tensor(y).float()\n",
    "print(f'{y=}')\n",
    "print(f'{x=}')\n",
    "print(f'{x*y=}')\n",
    "x_cross_y =  x * y"
   ]
  },
  {
   "cell_type": "code",
   "execution_count": 13,
   "metadata": {},
   "outputs": [
    {
     "name": "stdout",
     "output_type": "stream",
     "text": [
      "tensor(1.5811)\n",
      "y.std()=tensor(1.5811)\n",
      "(x*y).std()=tensor(11.2250)\n",
      "x_cross_y.std()=tensor(11.2250)\n"
     ]
    }
   ],
   "source": [
    "print(x.std())\n",
    "print(f'{y.std()=}')\n",
    "print(f'{(x*y).std()=}')\n",
    "print(f'{x_cross_y.std()=}')"
   ]
  },
  {
   "cell_type": "code",
   "execution_count": null,
   "metadata": {},
   "outputs": [],
   "source": []
  }
 ],
 "metadata": {
  "kernelspec": {
   "display_name": ".env",
   "language": "python",
   "name": "python3"
  },
  "language_info": {
   "codemirror_mode": {
    "name": "ipython",
    "version": 3
   },
   "file_extension": ".py",
   "mimetype": "text/x-python",
   "name": "python",
   "nbconvert_exporter": "python",
   "pygments_lexer": "ipython3",
   "version": "3.10.5"
  }
 },
 "nbformat": 4,
 "nbformat_minor": 2
}
